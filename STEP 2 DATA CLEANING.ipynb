{
  "metadata": {
    "kernelspec": {
      "name": "python",
      "display_name": "Python (Pyodide)",
      "language": "python"
    },
    "language_info": {
      "codemirror_mode": {
        "name": "python",
        "version": 3
      },
      "file_extension": ".py",
      "mimetype": "text/x-python",
      "name": "python",
      "nbconvert_exporter": "python",
      "pygments_lexer": "ipython3",
      "version": "3.8"
    }
  },
  "nbformat_minor": 4,
  "nbformat": 4,
  "cells": [
    {
      "cell_type": "markdown",
      "source": "## IMPORTING LIBRARIES",
      "metadata": {}
    },
    {
      "cell_type": "code",
      "source": "import numpy as np\nimport pandas as pd\nimport matplotlib.pyplot as plt\n%matplotlib inline",
      "metadata": {
        "trusted": true
      },
      "outputs": [],
      "execution_count": 1
    },
    {
      "cell_type": "markdown",
      "source": "### LOADING DATASET",
      "metadata": {}
    },
    {
      "cell_type": "code",
      "source": "from pyodide.http import pyfetch\n\nasync def download(url, filename):\n    response = await pyfetch(url)\n    if response.status == 200:\n        with open(filename, \"wb\") as f:\n            f.write(await response.bytes())",
      "metadata": {
        "trusted": true
      },
      "outputs": [],
      "execution_count": 2
    },
    {
      "cell_type": "code",
      "source": "file_path= \"https://cf-courses-data.s3.us.cloud-object-storage.appdomain.cloud/IBMDeveloperSkillsNetwork-DA0101EN-Coursera/laptop_pricing_dataset_mod1.csv\"",
      "metadata": {
        "trusted": true
      },
      "outputs": [],
      "execution_count": 3
    },
    {
      "cell_type": "code",
      "source": "await download(file_path, \"laptops.csv\")\nfile_name=\"laptops.csv\"",
      "metadata": {
        "trusted": true
      },
      "outputs": [],
      "execution_count": 4
    },
    {
      "cell_type": "code",
      "source": "df= pd.read_csv(file_name, header=0)",
      "metadata": {
        "trusted": true
      },
      "outputs": [],
      "execution_count": 6
    },
    {
      "cell_type": "markdown",
      "source": "### DATA INFO",
      "metadata": {}
    },
    {
      "cell_type": "code",
      "source": "df.info()",
      "metadata": {
        "trusted": true
      },
      "outputs": [
        {
          "name": "stdout",
          "text": "<class 'pandas.core.frame.DataFrame'>\nRangeIndex: 238 entries, 0 to 237\nData columns (total 13 columns):\n #   Column          Non-Null Count  Dtype  \n---  ------          --------------  -----  \n 0   Unnamed: 0      238 non-null    int64  \n 1   Manufacturer    238 non-null    object \n 2   Category        238 non-null    int64  \n 3   Screen          238 non-null    object \n 4   GPU             238 non-null    int64  \n 5   OS              238 non-null    int64  \n 6   CPU_core        238 non-null    int64  \n 7   Screen_Size_cm  234 non-null    float64\n 8   CPU_frequency   238 non-null    float64\n 9   RAM_GB          238 non-null    int64  \n 10  Storage_GB_SSD  238 non-null    int64  \n 11  Weight_kg       233 non-null    float64\n 12  Price           238 non-null    int64  \ndtypes: float64(3), int64(8), object(2)\nmemory usage: 22.4+ KB\n",
          "output_type": "stream"
        }
      ],
      "execution_count": 7
    },
    {
      "cell_type": "code",
      "source": "df.head()",
      "metadata": {
        "trusted": true
      },
      "outputs": [
        {
          "execution_count": 9,
          "output_type": "execute_result",
          "data": {
            "text/plain": "   Unnamed: 0 Manufacturer  Category     Screen  GPU  OS  CPU_core  \\\n0           0         Acer         4  IPS Panel    2   1         5   \n1           1         Dell         3    Full HD    1   1         3   \n2           2         Dell         3    Full HD    1   1         7   \n3           3         Dell         4  IPS Panel    2   1         5   \n4           4           HP         4    Full HD    2   1         7   \n\n   Screen_Size_cm  CPU_frequency  RAM_GB  Storage_GB_SSD  Weight_kg  Price  \n0          35.560            1.6       8             256       1.60    978  \n1          39.624            2.0       4             256       2.20    634  \n2          39.624            2.7       8             256       2.20    946  \n3          33.782            1.6       8             128       1.22   1244  \n4          39.624            1.8       8             256       1.91    837  ",
            "text/html": "<div>\n<style scoped>\n    .dataframe tbody tr th:only-of-type {\n        vertical-align: middle;\n    }\n\n    .dataframe tbody tr th {\n        vertical-align: top;\n    }\n\n    .dataframe thead th {\n        text-align: right;\n    }\n</style>\n<table border=\"1\" class=\"dataframe\">\n  <thead>\n    <tr style=\"text-align: right;\">\n      <th></th>\n      <th>Unnamed: 0</th>\n      <th>Manufacturer</th>\n      <th>Category</th>\n      <th>Screen</th>\n      <th>GPU</th>\n      <th>OS</th>\n      <th>CPU_core</th>\n      <th>Screen_Size_cm</th>\n      <th>CPU_frequency</th>\n      <th>RAM_GB</th>\n      <th>Storage_GB_SSD</th>\n      <th>Weight_kg</th>\n      <th>Price</th>\n    </tr>\n  </thead>\n  <tbody>\n    <tr>\n      <th>0</th>\n      <td>0</td>\n      <td>Acer</td>\n      <td>4</td>\n      <td>IPS Panel</td>\n      <td>2</td>\n      <td>1</td>\n      <td>5</td>\n      <td>35.560</td>\n      <td>1.6</td>\n      <td>8</td>\n      <td>256</td>\n      <td>1.60</td>\n      <td>978</td>\n    </tr>\n    <tr>\n      <th>1</th>\n      <td>1</td>\n      <td>Dell</td>\n      <td>3</td>\n      <td>Full HD</td>\n      <td>1</td>\n      <td>1</td>\n      <td>3</td>\n      <td>39.624</td>\n      <td>2.0</td>\n      <td>4</td>\n      <td>256</td>\n      <td>2.20</td>\n      <td>634</td>\n    </tr>\n    <tr>\n      <th>2</th>\n      <td>2</td>\n      <td>Dell</td>\n      <td>3</td>\n      <td>Full HD</td>\n      <td>1</td>\n      <td>1</td>\n      <td>7</td>\n      <td>39.624</td>\n      <td>2.7</td>\n      <td>8</td>\n      <td>256</td>\n      <td>2.20</td>\n      <td>946</td>\n    </tr>\n    <tr>\n      <th>3</th>\n      <td>3</td>\n      <td>Dell</td>\n      <td>4</td>\n      <td>IPS Panel</td>\n      <td>2</td>\n      <td>1</td>\n      <td>5</td>\n      <td>33.782</td>\n      <td>1.6</td>\n      <td>8</td>\n      <td>128</td>\n      <td>1.22</td>\n      <td>1244</td>\n    </tr>\n    <tr>\n      <th>4</th>\n      <td>4</td>\n      <td>HP</td>\n      <td>4</td>\n      <td>Full HD</td>\n      <td>2</td>\n      <td>1</td>\n      <td>7</td>\n      <td>39.624</td>\n      <td>1.8</td>\n      <td>8</td>\n      <td>256</td>\n      <td>1.91</td>\n      <td>837</td>\n    </tr>\n  </tbody>\n</table>\n</div>"
          },
          "metadata": {}
        }
      ],
      "execution_count": 9
    },
    {
      "cell_type": "markdown",
      "source": "#### ROUNDING UP TO 2 DECIMAL PLACES",
      "metadata": {}
    },
    {
      "cell_type": "code",
      "source": "df[[\"Screen_Size_cm\"]]= np.round(df[[\"Screen_Size_cm\"]],2)\ndf[[\"Screen_Size_cm\"]]",
      "metadata": {
        "trusted": true
      },
      "outputs": [
        {
          "execution_count": 11,
          "output_type": "execute_result",
          "data": {
            "text/plain": "     Screen_Size_cm\n0             35.56\n1             39.62\n2             39.62\n3             33.78\n4             39.62\n..              ...\n233           35.56\n234           33.78\n235           30.48\n236           39.62\n237           35.56\n\n[238 rows x 1 columns]",
            "text/html": "<div>\n<style scoped>\n    .dataframe tbody tr th:only-of-type {\n        vertical-align: middle;\n    }\n\n    .dataframe tbody tr th {\n        vertical-align: top;\n    }\n\n    .dataframe thead th {\n        text-align: right;\n    }\n</style>\n<table border=\"1\" class=\"dataframe\">\n  <thead>\n    <tr style=\"text-align: right;\">\n      <th></th>\n      <th>Screen_Size_cm</th>\n    </tr>\n  </thead>\n  <tbody>\n    <tr>\n      <th>0</th>\n      <td>35.56</td>\n    </tr>\n    <tr>\n      <th>1</th>\n      <td>39.62</td>\n    </tr>\n    <tr>\n      <th>2</th>\n      <td>39.62</td>\n    </tr>\n    <tr>\n      <th>3</th>\n      <td>33.78</td>\n    </tr>\n    <tr>\n      <th>4</th>\n      <td>39.62</td>\n    </tr>\n    <tr>\n      <th>...</th>\n      <td>...</td>\n    </tr>\n    <tr>\n      <th>233</th>\n      <td>35.56</td>\n    </tr>\n    <tr>\n      <th>234</th>\n      <td>33.78</td>\n    </tr>\n    <tr>\n      <th>235</th>\n      <td>30.48</td>\n    </tr>\n    <tr>\n      <th>236</th>\n      <td>39.62</td>\n    </tr>\n    <tr>\n      <th>237</th>\n      <td>35.56</td>\n    </tr>\n  </tbody>\n</table>\n<p>238 rows × 1 columns</p>\n</div>"
          },
          "metadata": {}
        }
      ],
      "execution_count": 11
    },
    {
      "cell_type": "markdown",
      "source": "### REPLACING MISSING DATA AND VIEWING MISSING DATA",
      "metadata": {}
    },
    {
      "cell_type": "code",
      "source": "df.replace(\"?\",np.nan, inplace= True)\nmissing_data= df.isnull()\nmissing_data.head()\n",
      "metadata": {
        "trusted": true
      },
      "outputs": [
        {
          "execution_count": 15,
          "output_type": "execute_result",
          "data": {
            "text/plain": "   Unnamed: 0  Manufacturer  Category  Screen    GPU     OS  CPU_core  \\\n0       False         False     False   False  False  False     False   \n1       False         False     False   False  False  False     False   \n2       False         False     False   False  False  False     False   \n3       False         False     False   False  False  False     False   \n4       False         False     False   False  False  False     False   \n\n   Screen_Size_cm  CPU_frequency  RAM_GB  Storage_GB_SSD  Weight_kg  Price  \n0           False          False   False           False      False  False  \n1           False          False   False           False      False  False  \n2           False          False   False           False      False  False  \n3           False          False   False           False      False  False  \n4           False          False   False           False      False  False  ",
            "text/html": "<div>\n<style scoped>\n    .dataframe tbody tr th:only-of-type {\n        vertical-align: middle;\n    }\n\n    .dataframe tbody tr th {\n        vertical-align: top;\n    }\n\n    .dataframe thead th {\n        text-align: right;\n    }\n</style>\n<table border=\"1\" class=\"dataframe\">\n  <thead>\n    <tr style=\"text-align: right;\">\n      <th></th>\n      <th>Unnamed: 0</th>\n      <th>Manufacturer</th>\n      <th>Category</th>\n      <th>Screen</th>\n      <th>GPU</th>\n      <th>OS</th>\n      <th>CPU_core</th>\n      <th>Screen_Size_cm</th>\n      <th>CPU_frequency</th>\n      <th>RAM_GB</th>\n      <th>Storage_GB_SSD</th>\n      <th>Weight_kg</th>\n      <th>Price</th>\n    </tr>\n  </thead>\n  <tbody>\n    <tr>\n      <th>0</th>\n      <td>False</td>\n      <td>False</td>\n      <td>False</td>\n      <td>False</td>\n      <td>False</td>\n      <td>False</td>\n      <td>False</td>\n      <td>False</td>\n      <td>False</td>\n      <td>False</td>\n      <td>False</td>\n      <td>False</td>\n      <td>False</td>\n    </tr>\n    <tr>\n      <th>1</th>\n      <td>False</td>\n      <td>False</td>\n      <td>False</td>\n      <td>False</td>\n      <td>False</td>\n      <td>False</td>\n      <td>False</td>\n      <td>False</td>\n      <td>False</td>\n      <td>False</td>\n      <td>False</td>\n      <td>False</td>\n      <td>False</td>\n    </tr>\n    <tr>\n      <th>2</th>\n      <td>False</td>\n      <td>False</td>\n      <td>False</td>\n      <td>False</td>\n      <td>False</td>\n      <td>False</td>\n      <td>False</td>\n      <td>False</td>\n      <td>False</td>\n      <td>False</td>\n      <td>False</td>\n      <td>False</td>\n      <td>False</td>\n    </tr>\n    <tr>\n      <th>3</th>\n      <td>False</td>\n      <td>False</td>\n      <td>False</td>\n      <td>False</td>\n      <td>False</td>\n      <td>False</td>\n      <td>False</td>\n      <td>False</td>\n      <td>False</td>\n      <td>False</td>\n      <td>False</td>\n      <td>False</td>\n      <td>False</td>\n    </tr>\n    <tr>\n      <th>4</th>\n      <td>False</td>\n      <td>False</td>\n      <td>False</td>\n      <td>False</td>\n      <td>False</td>\n      <td>False</td>\n      <td>False</td>\n      <td>False</td>\n      <td>False</td>\n      <td>False</td>\n      <td>False</td>\n      <td>False</td>\n      <td>False</td>\n    </tr>\n  </tbody>\n</table>\n</div>"
          },
          "metadata": {}
        }
      ],
      "execution_count": 15
    },
    {
      "cell_type": "code",
      "source": "#### IDENTIFYING COLUMN WITH MISSING DATA",
      "metadata": {
        "trusted": true
      },
      "outputs": [],
      "execution_count": 71
    },
    {
      "cell_type": "code",
      "source": "for column in missing_data.columns.values.tolist():\n    print(column)\n    print (missing_data[column].value_counts())\n    print(\"\")",
      "metadata": {
        "trusted": true
      },
      "outputs": [
        {
          "name": "stdout",
          "text": "Unnamed: 0\nFalse    238\nName: Unnamed: 0, dtype: int64\n\nManufacturer\nFalse    238\nName: Manufacturer, dtype: int64\n\nCategory\nFalse    238\nName: Category, dtype: int64\n\nScreen\nFalse    238\nName: Screen, dtype: int64\n\nGPU\nFalse    238\nName: GPU, dtype: int64\n\nOS\nFalse    238\nName: OS, dtype: int64\n\nCPU_core\nFalse    238\nName: CPU_core, dtype: int64\n\nScreen_Size_cm\nFalse    234\nTrue       4\nName: Screen_Size_cm, dtype: int64\n\nCPU_frequency\nFalse    238\nName: CPU_frequency, dtype: int64\n\nRAM_GB\nFalse    238\nName: RAM_GB, dtype: int64\n\nStorage_GB_SSD\nFalse    238\nName: Storage_GB_SSD, dtype: int64\n\nWeight_kg\nFalse    233\nTrue       5\nName: Weight_kg, dtype: int64\n\nPrice\nFalse    238\nName: Price, dtype: int64\n\n",
          "output_type": "stream"
        }
      ],
      "execution_count": 17
    },
    {
      "cell_type": "markdown",
      "source": "#### REPLACING MISSING DATA WITH THE AVERAGE VALUE FOR WEIGHT",
      "metadata": {}
    },
    {
      "cell_type": "code",
      "source": "avgvalue = df[\"Weight_kg\"].astype(\"float\").mean(axis=0)\ndf[\"Weight_kg\"].replace(np.nan, avgvalue, inplace= True)",
      "metadata": {
        "trusted": true
      },
      "outputs": [],
      "execution_count": 23
    },
    {
      "cell_type": "markdown",
      "source": "#### REPLACING MISSING DATA WITH THE MOST FREQUENT VALUE FOR WEIGHT",
      "metadata": {}
    },
    {
      "cell_type": "code",
      "source": "freqvalue = df[\"Screen_Size_cm\"].value_counts().idxmax()\ndf[\"Screen_Size_cm\"].replace(np.nan, freqvalue, inplace=True)",
      "metadata": {
        "trusted": true
      },
      "outputs": [],
      "execution_count": 25
    },
    {
      "cell_type": "markdown",
      "source": "#### VIEWING THE DATA TYPES",
      "metadata": {}
    },
    {
      "cell_type": "code",
      "source": "df.dtypes",
      "metadata": {
        "trusted": true
      },
      "outputs": [
        {
          "execution_count": 27,
          "output_type": "execute_result",
          "data": {
            "text/plain": "Unnamed: 0          int64\nManufacturer       object\nCategory            int64\nScreen             object\nGPU                 int64\nOS                  int64\nCPU_core            int64\nScreen_Size_cm    float64\nCPU_frequency     float64\nRAM_GB              int64\nStorage_GB_SSD      int64\nWeight_kg         float64\nPrice               int64\ndtype: object"
          },
          "metadata": {}
        }
      ],
      "execution_count": 27
    },
    {
      "cell_type": "markdown",
      "source": "### Data Standardization\nThe value of Screen_size usually has a standard unit of inches. Similarly, weight of the laptop is needed to be in pounds. Use the below mentioned units of conversion and write a code to modify the columns of the dataframe accordingly. Update their names as well.\n\n```{math}\n1 inch = 2.54 cm\n1 kg   = 2.205 pounds\n```",
      "metadata": {}
    },
    {
      "cell_type": "code",
      "source": "df[\"Screen_Size_cm\"]= df[\"Screen_Size_cm\"]*2.54\ndf[\"Weight_kg\"]= 2.205/df[\"Weight_kg\"]",
      "metadata": {
        "trusted": true
      },
      "outputs": [],
      "execution_count": 28
    },
    {
      "cell_type": "code",
      "source": "df[\"Weight_pounds\"]= df[\"Weight_kg\"]\ndf[\"Screen_Size_inches\"]= df[\"Screen_Size_cm\"]",
      "metadata": {
        "trusted": true
      },
      "outputs": [],
      "execution_count": 30
    },
    {
      "cell_type": "code",
      "source": "df.dtypes",
      "metadata": {
        "trusted": true
      },
      "outputs": [
        {
          "execution_count": 31,
          "output_type": "execute_result",
          "data": {
            "text/plain": "Unnamed: 0              int64\nManufacturer           object\nCategory                int64\nScreen                 object\nGPU                     int64\nOS                      int64\nCPU_core                int64\nScreen_Size_cm        float64\nCPU_frequency         float64\nRAM_GB                  int64\nStorage_GB_SSD          int64\nWeight_kg             float64\nPrice                   int64\nWeight_pounds         float64\nScreen_Size_inches    float64\ndtype: object"
          },
          "metadata": {}
        }
      ],
      "execution_count": 31
    },
    {
      "cell_type": "markdown",
      "source": "### Data Normalization\nOften it is required to normalize a continuous data attribute. Write a code to normalize the \"CPU_frequency\" attribute with respect to the maximum value available in the dataset.",
      "metadata": {}
    },
    {
      "cell_type": "code",
      "source": "df[\"CPU_frequency\"] = df[\"CPU_frequency\"]/df[\"CPU_frequency\"].max()",
      "metadata": {
        "trusted": true
      },
      "outputs": [],
      "execution_count": 32
    },
    {
      "cell_type": "code",
      "source": "df.dtypes",
      "metadata": {
        "trusted": true
      },
      "outputs": [
        {
          "execution_count": 33,
          "output_type": "execute_result",
          "data": {
            "text/plain": "Unnamed: 0              int64\nManufacturer           object\nCategory                int64\nScreen                 object\nGPU                     int64\nOS                      int64\nCPU_core                int64\nScreen_Size_cm        float64\nCPU_frequency         float64\nRAM_GB                  int64\nStorage_GB_SSD          int64\nWeight_kg             float64\nPrice                   int64\nWeight_pounds         float64\nScreen_Size_inches    float64\ndtype: object"
          },
          "metadata": {}
        }
      ],
      "execution_count": 33
    },
    {
      "cell_type": "code",
      "source": "df[\"CPU_frequency\"]",
      "metadata": {
        "trusted": true
      },
      "outputs": [
        {
          "execution_count": 34,
          "output_type": "execute_result",
          "data": {
            "text/plain": "0      0.551724\n1      0.689655\n2      0.931034\n3      0.551724\n4      0.620690\n         ...   \n233    0.896552\n234    0.827586\n235    0.896552\n236    0.862069\n237    0.793103\nName: CPU_frequency, Length: 238, dtype: float64"
          },
          "metadata": {}
        }
      ],
      "execution_count": 34
    },
    {
      "cell_type": "markdown",
      "source": "### Binning\nBinning is a process of creating a categorical attribute which splits the values of a continuous data into a specified number of groups. In this case, write a code to create 3 bins for the attribute \"Price\". These bins would be named \"Low\", \"Medium\" and \"High\". The new attribute will be named \"Price-binned\".\n",
      "metadata": {}
    },
    {
      "cell_type": "code",
      "source": "# categorize\nbins = np.linspace(min(df[\"Price\"]), max(df[\"Price\"]),4)\n# give group name for the category\ngroup_names= [\"Low\", \"Medium\", \"High\"]\n#create a column for the category\ndf[\"price-binned\"]= pd.cut(df[\"Price\"], bins, labels= group_names, include_lowest= True)",
      "metadata": {
        "trusted": true
      },
      "outputs": [],
      "execution_count": 45
    },
    {
      "cell_type": "code",
      "source": "print(df[\"Price\"])\nprint(df[\"price-binned\"])",
      "metadata": {
        "trusted": true
      },
      "outputs": [
        {
          "name": "stdout",
          "text": "0       978\n1       634\n2       946\n3      1244\n4       837\n       ... \n233    1891\n234    1950\n235    2236\n236     883\n237    1499\nName: Price, Length: 238, dtype: int64\n0         Low\n1         Low\n2         Low\n3         Low\n4         Low\n        ...  \n233    Medium\n234    Medium\n235    Medium\n236       Low\n237       Low\nName: price-binned, Length: 238, dtype: category\nCategories (3, object): ['Low' < 'Medium' < 'High']\n",
          "output_type": "stream"
        }
      ],
      "execution_count": 51
    },
    {
      "cell_type": "markdown",
      "source": "### plot the bar graph of these bins",
      "metadata": {}
    },
    {
      "cell_type": "code",
      "source": "plt.bar(group_names,df[\"price-binned\"].value_counts())\nplt.xlabel(\"price\")\nplt.ylabel(\"count\")\nplt.title(\"price bins\")",
      "metadata": {
        "trusted": true
      },
      "outputs": [
        {
          "execution_count": 52,
          "output_type": "execute_result",
          "data": {
            "text/plain": "Text(0.5, 1.0, 'price bins')"
          },
          "metadata": {}
        },
        {
          "output_type": "display_data",
          "data": {
            "text/plain": "<Figure size 640x480 with 1 Axes>",
            "image/png": "[encoded data removed]"
          },
          "metadata": {}
        }
      ],
      "execution_count": 52
    },
    {
      "cell_type": "code",
      "source": "df[\"Manufacturer\"]",
      "metadata": {
        "trusted": true
      },
      "outputs": [
        {
          "execution_count": 58,
          "output_type": "execute_result",
          "data": {
            "text/plain": "0         Acer\n1         Dell\n2         Dell\n3         Dell\n4           HP\n        ...   \n233     Lenovo\n234    Toshiba\n235     Lenovo\n236     Lenovo\n237    Toshiba\nName: Manufacturer, Length: 238, dtype: object"
          },
          "metadata": {}
        }
      ],
      "execution_count": 58
    },
    {
      "cell_type": "markdown",
      "source": "### Indicator variables\nConvert the \"Screen\" attribute of the dataset into 2 indicator variables, \"Screen-IPS_panel\" and \"Screen-Full_HD\". Then drop the \"Screen\" attribute from the dataset.",
      "metadata": {}
    },
    {
      "cell_type": "code",
      "source": "dummy_variable_1 =pd.get_dummies(df[\"Screen\"])\ndummy_variable_1.rename(columns={'IPS Panel': 'Screen-IPS_panel', 'Full HD':'Screen-Full_HD'}, inplace=True)\ndf=pd.concat([df,dummy_variable_1],axis=1)\n\ndf.drop(\"Screen\", axis =1, inplace= True)",
      "metadata": {
        "trusted": true
      },
      "outputs": [],
      "execution_count": 66
    },
    {
      "cell_type": "code",
      "source": "df.head()",
      "metadata": {
        "trusted": true
      },
      "outputs": [
        {
          "execution_count": 67,
          "output_type": "execute_result",
          "data": {
            "text/plain": "   Unnamed: 0 Manufacturer  Category  GPU  OS  CPU_core  Screen_Size_cm  \\\n0           0         Acer         4    2   1         5         90.3224   \n1           1         Dell         3    1   1         3        100.6348   \n2           2         Dell         3    1   1         7        100.6348   \n3           3         Dell         4    2   1         5         85.8012   \n4           4           HP         4    2   1         7        100.6348   \n\n   CPU_frequency  RAM_GB  Storage_GB_SSD  Weight_kg  Price  Weight_pounds  \\\n0       0.551724       8             256   1.378125    978       1.378125   \n1       0.689655       4             256   1.002273    634       1.002273   \n2       0.931034       8             256   1.002273    946       1.002273   \n3       0.551724       8             128   1.807377   1244       1.807377   \n4       0.620690       8             256   1.154450    837       1.154450   \n\n   Screen_Size_inches price-binned  Screen-Full_HD  Screen-IPS_panel  \\\n0             90.3224          Low               0                 1   \n1            100.6348          Low               1                 0   \n2            100.6348          Low               1                 0   \n3             85.8012          Low               0                 1   \n4            100.6348          Low               1                 0   \n\n   Screen-Full_HD  Screen-IPS_panel  \n0               0                 1  \n1               1                 0  \n2               1                 0  \n3               0                 1  \n4               1                 0  ",
            "text/html": "<div>\n<style scoped>\n    .dataframe tbody tr th:only-of-type {\n        vertical-align: middle;\n    }\n\n    .dataframe tbody tr th {\n        vertical-align: top;\n    }\n\n    .dataframe thead th {\n        text-align: right;\n    }\n</style>\n<table border=\"1\" class=\"dataframe\">\n  <thead>\n    <tr style=\"text-align: right;\">\n      <th></th>\n      <th>Unnamed: 0</th>\n      <th>Manufacturer</th>\n      <th>Category</th>\n      <th>GPU</th>\n      <th>OS</th>\n      <th>CPU_core</th>\n      <th>Screen_Size_cm</th>\n      <th>CPU_frequency</th>\n      <th>RAM_GB</th>\n      <th>Storage_GB_SSD</th>\n      <th>Weight_kg</th>\n      <th>Price</th>\n      <th>Weight_pounds</th>\n      <th>Screen_Size_inches</th>\n      <th>price-binned</th>\n      <th>Screen-Full_HD</th>\n      <th>Screen-IPS_panel</th>\n      <th>Screen-Full_HD</th>\n      <th>Screen-IPS_panel</th>\n    </tr>\n  </thead>\n  <tbody>\n    <tr>\n      <th>0</th>\n      <td>0</td>\n      <td>Acer</td>\n      <td>4</td>\n      <td>2</td>\n      <td>1</td>\n      <td>5</td>\n      <td>90.3224</td>\n      <td>0.551724</td>\n      <td>8</td>\n      <td>256</td>\n      <td>1.378125</td>\n      <td>978</td>\n      <td>1.378125</td>\n      <td>90.3224</td>\n      <td>Low</td>\n      <td>0</td>\n      <td>1</td>\n      <td>0</td>\n      <td>1</td>\n    </tr>\n    <tr>\n      <th>1</th>\n      <td>1</td>\n      <td>Dell</td>\n      <td>3</td>\n      <td>1</td>\n      <td>1</td>\n      <td>3</td>\n      <td>100.6348</td>\n      <td>0.689655</td>\n      <td>4</td>\n      <td>256</td>\n      <td>1.002273</td>\n      <td>634</td>\n      <td>1.002273</td>\n      <td>100.6348</td>\n      <td>Low</td>\n      <td>1</td>\n      <td>0</td>\n      <td>1</td>\n      <td>0</td>\n    </tr>\n    <tr>\n      <th>2</th>\n      <td>2</td>\n      <td>Dell</td>\n      <td>3</td>\n      <td>1</td>\n      <td>1</td>\n      <td>7</td>\n      <td>100.6348</td>\n      <td>0.931034</td>\n      <td>8</td>\n      <td>256</td>\n      <td>1.002273</td>\n      <td>946</td>\n      <td>1.002273</td>\n      <td>100.6348</td>\n      <td>Low</td>\n      <td>1</td>\n      <td>0</td>\n      <td>1</td>\n      <td>0</td>\n    </tr>\n    <tr>\n      <th>3</th>\n      <td>3</td>\n      <td>Dell</td>\n      <td>4</td>\n      <td>2</td>\n      <td>1</td>\n      <td>5</td>\n      <td>85.8012</td>\n      <td>0.551724</td>\n      <td>8</td>\n      <td>128</td>\n      <td>1.807377</td>\n      <td>1244</td>\n      <td>1.807377</td>\n      <td>85.8012</td>\n      <td>Low</td>\n      <td>0</td>\n      <td>1</td>\n      <td>0</td>\n      <td>1</td>\n    </tr>\n    <tr>\n      <th>4</th>\n      <td>4</td>\n      <td>HP</td>\n      <td>4</td>\n      <td>2</td>\n      <td>1</td>\n      <td>7</td>\n      <td>100.6348</td>\n      <td>0.620690</td>\n      <td>8</td>\n      <td>256</td>\n      <td>1.154450</td>\n      <td>837</td>\n      <td>1.154450</td>\n      <td>100.6348</td>\n      <td>Low</td>\n      <td>1</td>\n      <td>0</td>\n      <td>1</td>\n      <td>0</td>\n    </tr>\n  </tbody>\n</table>\n</div>"
          },
          "metadata": {}
        }
      ],
      "execution_count": 67
    },
    {
      "cell_type": "markdown",
      "source": "### DROPPING COLUMNS",
      "metadata": {}
    },
    {
      "cell_type": "code",
      "source": "df.drop(\"Screen_Size_cm\", axis=1, inplace =True)\ndf.drop(\"Weight_kg\", axis=1, inplace =True)",
      "metadata": {
        "trusted": true
      },
      "outputs": [],
      "execution_count": 68
    },
    {
      "cell_type": "code",
      "source": "df.head()",
      "metadata": {
        "trusted": true
      },
      "outputs": [
        {
          "execution_count": 69,
          "output_type": "execute_result",
          "data": {
            "text/plain": "   Unnamed: 0 Manufacturer  Category  GPU  OS  CPU_core  CPU_frequency  \\\n0           0         Acer         4    2   1         5       0.551724   \n1           1         Dell         3    1   1         3       0.689655   \n2           2         Dell         3    1   1         7       0.931034   \n3           3         Dell         4    2   1         5       0.551724   \n4           4           HP         4    2   1         7       0.620690   \n\n   RAM_GB  Storage_GB_SSD  Price  Weight_pounds  Screen_Size_inches  \\\n0       8             256    978       1.378125             90.3224   \n1       4             256    634       1.002273            100.6348   \n2       8             256    946       1.002273            100.6348   \n3       8             128   1244       1.807377             85.8012   \n4       8             256    837       1.154450            100.6348   \n\n  price-binned  Screen-Full_HD  Screen-IPS_panel  Screen-Full_HD  \\\n0          Low               0                 1               0   \n1          Low               1                 0               1   \n2          Low               1                 0               1   \n3          Low               0                 1               0   \n4          Low               1                 0               1   \n\n   Screen-IPS_panel  \n0                 1  \n1                 0  \n2                 0  \n3                 1  \n4                 0  ",
            "text/html": "<div>\n<style scoped>\n    .dataframe tbody tr th:only-of-type {\n        vertical-align: middle;\n    }\n\n    .dataframe tbody tr th {\n        vertical-align: top;\n    }\n\n    .dataframe thead th {\n        text-align: right;\n    }\n</style>\n<table border=\"1\" class=\"dataframe\">\n  <thead>\n    <tr style=\"text-align: right;\">\n      <th></th>\n      <th>Unnamed: 0</th>\n      <th>Manufacturer</th>\n      <th>Category</th>\n      <th>GPU</th>\n      <th>OS</th>\n      <th>CPU_core</th>\n      <th>CPU_frequency</th>\n      <th>RAM_GB</th>\n      <th>Storage_GB_SSD</th>\n      <th>Price</th>\n      <th>Weight_pounds</th>\n      <th>Screen_Size_inches</th>\n      <th>price-binned</th>\n      <th>Screen-Full_HD</th>\n      <th>Screen-IPS_panel</th>\n      <th>Screen-Full_HD</th>\n      <th>Screen-IPS_panel</th>\n    </tr>\n  </thead>\n  <tbody>\n    <tr>\n      <th>0</th>\n      <td>0</td>\n      <td>Acer</td>\n      <td>4</td>\n      <td>2</td>\n      <td>1</td>\n      <td>5</td>\n      <td>0.551724</td>\n      <td>8</td>\n      <td>256</td>\n      <td>978</td>\n      <td>1.378125</td>\n      <td>90.3224</td>\n      <td>Low</td>\n      <td>0</td>\n      <td>1</td>\n      <td>0</td>\n      <td>1</td>\n    </tr>\n    <tr>\n      <th>1</th>\n      <td>1</td>\n      <td>Dell</td>\n      <td>3</td>\n      <td>1</td>\n      <td>1</td>\n      <td>3</td>\n      <td>0.689655</td>\n      <td>4</td>\n      <td>256</td>\n      <td>634</td>\n      <td>1.002273</td>\n      <td>100.6348</td>\n      <td>Low</td>\n      <td>1</td>\n      <td>0</td>\n      <td>1</td>\n      <td>0</td>\n    </tr>\n    <tr>\n      <th>2</th>\n      <td>2</td>\n      <td>Dell</td>\n      <td>3</td>\n      <td>1</td>\n      <td>1</td>\n      <td>7</td>\n      <td>0.931034</td>\n      <td>8</td>\n      <td>256</td>\n      <td>946</td>\n      <td>1.002273</td>\n      <td>100.6348</td>\n      <td>Low</td>\n      <td>1</td>\n      <td>0</td>\n      <td>1</td>\n      <td>0</td>\n    </tr>\n    <tr>\n      <th>3</th>\n      <td>3</td>\n      <td>Dell</td>\n      <td>4</td>\n      <td>2</td>\n      <td>1</td>\n      <td>5</td>\n      <td>0.551724</td>\n      <td>8</td>\n      <td>128</td>\n      <td>1244</td>\n      <td>1.807377</td>\n      <td>85.8012</td>\n      <td>Low</td>\n      <td>0</td>\n      <td>1</td>\n      <td>0</td>\n      <td>1</td>\n    </tr>\n    <tr>\n      <th>4</th>\n      <td>4</td>\n      <td>HP</td>\n      <td>4</td>\n      <td>2</td>\n      <td>1</td>\n      <td>7</td>\n      <td>0.620690</td>\n      <td>8</td>\n      <td>256</td>\n      <td>837</td>\n      <td>1.154450</td>\n      <td>100.6348</td>\n      <td>Low</td>\n      <td>1</td>\n      <td>0</td>\n      <td>1</td>\n      <td>0</td>\n    </tr>\n  </tbody>\n</table>\n</div>"
          },
          "metadata": {}
        }
      ],
      "execution_count": 69
    },
    {
      "cell_type": "code",
      "source": "",
      "metadata": {
        "trusted": true
      },
      "outputs": [],
      "execution_count": null
    }
  ]
}