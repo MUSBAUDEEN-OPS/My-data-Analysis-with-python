{
  "metadata": {
    "kernelspec": {
      "name": "python",
      "display_name": "Python (Pyodide)",
      "language": "python"
    },
    "language_info": {
      "codemirror_mode": {
        "name": "python",
        "version": 3
      },
      "file_extension": ".py",
      "mimetype": "text/x-python",
      "name": "python",
      "nbconvert_exporter": "python",
      "pygments_lexer": "ipython3",
      "version": "3.8"
    }
  },
  "nbformat_minor": 4,
  "nbformat": 4,
  "cells": [
    {
      "cell_type": "markdown",
      "source": "# DATA ANALYSIS WITH PYTHON\n## (Extraction of dataset and Data cleaning)",
      "metadata": {}
    },
    {
      "cell_type": "markdown",
      "source": "#### Importing Required Libraries",
      "metadata": {}
    },
    {
      "cell_type": "code",
      "source": "\nimport pandas as pd\nimport numpy as np",
      "metadata": {
        "trusted": true
      },
      "outputs": [],
      "execution_count": 1
    },
    {
      "cell_type": "markdown",
      "source": "#### The functions below will download the dataset into your browser",
      "metadata": {}
    },
    {
      "cell_type": "code",
      "source": "from pyodide.http import pyfetch\n\nasync def download(url, filename):\n    response = await pyfetch(url)\n    if response.status == 200:\n        with open(filename, \"wb\") as f:\n            f.write(await response.bytes())",
      "metadata": {
        "trusted": true
      },
      "outputs": [],
      "execution_count": 2
    },
    {
      "cell_type": "code",
      "source": "file_path = \"https://cf-courses-data.s3.us.cloud-object-storage.appdomain.cloud/IBMDeveloperSkillsNetwork-DA0101EN-Coursera/laptop_pricing_dataset_base.csv\"",
      "metadata": {
        "trusted": true
      },
      "outputs": [],
      "execution_count": 3
    },
    {
      "cell_type": "markdown",
      "source": "#### To obtain the dataset, utilize the download() function as defined above",
      "metadata": {}
    },
    {
      "cell_type": "code",
      "source": "await download(file_path, \"laptops.csv\")\nfile_name=\"laptops.csv\"",
      "metadata": {
        "trusted": true
      },
      "outputs": [],
      "execution_count": 4
    },
    {
      "cell_type": "code",
      "source": "df = pd.read_csv(file_name)",
      "metadata": {
        "trusted": true
      },
      "outputs": [],
      "execution_count": 5
    },
    {
      "cell_type": "markdown",
      "source": "## Task 1\n#### Loading the dataset to a pandas dataframe named 'df'",
      "metadata": {}
    },
    {
      "cell_type": "code",
      "source": "df.head()",
      "metadata": {
        "trusted": true
      },
      "outputs": [
        {
          "execution_count": 6,
          "output_type": "execute_result",
          "data": {
            "text/plain": "   Acer  4  IPS Panel  2  1  5   35.56  1.6  8  256 1.6.1   978\n0  Dell  3    Full HD  1  1  3  39.624  2.0  4  256   2.2   634\n1  Dell  3    Full HD  1  1  7  39.624  2.7  8  256   2.2   946\n2  Dell  4  IPS Panel  2  1  5  33.782  1.6  8  128  1.22  1244\n3    HP  4    Full HD  2  1  7  39.624  1.8  8  256  1.91   837\n4  Dell  3    Full HD  1  1  5  39.624  1.6  8  256   2.2  1016",
            "text/html": "<div>\n<style scoped>\n    .dataframe tbody tr th:only-of-type {\n        vertical-align: middle;\n    }\n\n    .dataframe tbody tr th {\n        vertical-align: top;\n    }\n\n    .dataframe thead th {\n        text-align: right;\n    }\n</style>\n<table border=\"1\" class=\"dataframe\">\n  <thead>\n    <tr style=\"text-align: right;\">\n      <th></th>\n      <th>Acer</th>\n      <th>4</th>\n      <th>IPS Panel</th>\n      <th>2</th>\n      <th>1</th>\n      <th>5</th>\n      <th>35.56</th>\n      <th>1.6</th>\n      <th>8</th>\n      <th>256</th>\n      <th>1.6.1</th>\n      <th>978</th>\n    </tr>\n  </thead>\n  <tbody>\n    <tr>\n      <th>0</th>\n      <td>Dell</td>\n      <td>3</td>\n      <td>Full HD</td>\n      <td>1</td>\n      <td>1</td>\n      <td>3</td>\n      <td>39.624</td>\n      <td>2.0</td>\n      <td>4</td>\n      <td>256</td>\n      <td>2.2</td>\n      <td>634</td>\n    </tr>\n    <tr>\n      <th>1</th>\n      <td>Dell</td>\n      <td>3</td>\n      <td>Full HD</td>\n      <td>1</td>\n      <td>1</td>\n      <td>7</td>\n      <td>39.624</td>\n      <td>2.7</td>\n      <td>8</td>\n      <td>256</td>\n      <td>2.2</td>\n      <td>946</td>\n    </tr>\n    <tr>\n      <th>2</th>\n      <td>Dell</td>\n      <td>4</td>\n      <td>IPS Panel</td>\n      <td>2</td>\n      <td>1</td>\n      <td>5</td>\n      <td>33.782</td>\n      <td>1.6</td>\n      <td>8</td>\n      <td>128</td>\n      <td>1.22</td>\n      <td>1244</td>\n    </tr>\n    <tr>\n      <th>3</th>\n      <td>HP</td>\n      <td>4</td>\n      <td>Full HD</td>\n      <td>2</td>\n      <td>1</td>\n      <td>7</td>\n      <td>39.624</td>\n      <td>1.8</td>\n      <td>8</td>\n      <td>256</td>\n      <td>1.91</td>\n      <td>837</td>\n    </tr>\n    <tr>\n      <th>4</th>\n      <td>Dell</td>\n      <td>3</td>\n      <td>Full HD</td>\n      <td>1</td>\n      <td>1</td>\n      <td>5</td>\n      <td>39.624</td>\n      <td>1.6</td>\n      <td>8</td>\n      <td>256</td>\n      <td>2.2</td>\n      <td>1016</td>\n    </tr>\n  </tbody>\n</table>\n</div>"
          },
          "metadata": {}
        }
      ],
      "execution_count": 6
    },
    {
      "cell_type": "markdown",
      "source": "## Task 2\n#### Including headers to the dataframe",
      "metadata": {}
    },
    {
      "cell_type": "code",
      "source": "headers =[\"Manufacturer\", \"Category\", \"Screen\", \"GPU\", \"OS\", \"CPU_core\", \"Screen_Size_inch\", \"CPU_frequency\", \"RAM_GB\", \"Storage_GB_SSD\", \"Weight_kg\", \"Price\"]\ndf.columns = headers",
      "metadata": {
        "trusted": true
      },
      "outputs": [],
      "execution_count": 7
    },
    {
      "cell_type": "code",
      "source": "df.head()",
      "metadata": {
        "trusted": true
      },
      "outputs": [
        {
          "execution_count": 8,
          "output_type": "execute_result",
          "data": {
            "text/plain": "  Manufacturer  Category     Screen  GPU  OS  CPU_core Screen_Size_inch  \\\n0         Dell         3    Full HD    1   1         3           39.624   \n1         Dell         3    Full HD    1   1         7           39.624   \n2         Dell         4  IPS Panel    2   1         5           33.782   \n3           HP         4    Full HD    2   1         7           39.624   \n4         Dell         3    Full HD    1   1         5           39.624   \n\n   CPU_frequency  RAM_GB  Storage_GB_SSD Weight_kg  Price  \n0            2.0       4             256       2.2    634  \n1            2.7       8             256       2.2    946  \n2            1.6       8             128      1.22   1244  \n3            1.8       8             256      1.91    837  \n4            1.6       8             256       2.2   1016  ",
            "text/html": "<div>\n<style scoped>\n    .dataframe tbody tr th:only-of-type {\n        vertical-align: middle;\n    }\n\n    .dataframe tbody tr th {\n        vertical-align: top;\n    }\n\n    .dataframe thead th {\n        text-align: right;\n    }\n</style>\n<table border=\"1\" class=\"dataframe\">\n  <thead>\n    <tr style=\"text-align: right;\">\n      <th></th>\n      <th>Manufacturer</th>\n      <th>Category</th>\n      <th>Screen</th>\n      <th>GPU</th>\n      <th>OS</th>\n      <th>CPU_core</th>\n      <th>Screen_Size_inch</th>\n      <th>CPU_frequency</th>\n      <th>RAM_GB</th>\n      <th>Storage_GB_SSD</th>\n      <th>Weight_kg</th>\n      <th>Price</th>\n    </tr>\n  </thead>\n  <tbody>\n    <tr>\n      <th>0</th>\n      <td>Dell</td>\n      <td>3</td>\n      <td>Full HD</td>\n      <td>1</td>\n      <td>1</td>\n      <td>3</td>\n      <td>39.624</td>\n      <td>2.0</td>\n      <td>4</td>\n      <td>256</td>\n      <td>2.2</td>\n      <td>634</td>\n    </tr>\n    <tr>\n      <th>1</th>\n      <td>Dell</td>\n      <td>3</td>\n      <td>Full HD</td>\n      <td>1</td>\n      <td>1</td>\n      <td>7</td>\n      <td>39.624</td>\n      <td>2.7</td>\n      <td>8</td>\n      <td>256</td>\n      <td>2.2</td>\n      <td>946</td>\n    </tr>\n    <tr>\n      <th>2</th>\n      <td>Dell</td>\n      <td>4</td>\n      <td>IPS Panel</td>\n      <td>2</td>\n      <td>1</td>\n      <td>5</td>\n      <td>33.782</td>\n      <td>1.6</td>\n      <td>8</td>\n      <td>128</td>\n      <td>1.22</td>\n      <td>1244</td>\n    </tr>\n    <tr>\n      <th>3</th>\n      <td>HP</td>\n      <td>4</td>\n      <td>Full HD</td>\n      <td>2</td>\n      <td>1</td>\n      <td>7</td>\n      <td>39.624</td>\n      <td>1.8</td>\n      <td>8</td>\n      <td>256</td>\n      <td>1.91</td>\n      <td>837</td>\n    </tr>\n    <tr>\n      <th>4</th>\n      <td>Dell</td>\n      <td>3</td>\n      <td>Full HD</td>\n      <td>1</td>\n      <td>1</td>\n      <td>5</td>\n      <td>39.624</td>\n      <td>1.6</td>\n      <td>8</td>\n      <td>256</td>\n      <td>2.2</td>\n      <td>1016</td>\n    </tr>\n  </tbody>\n</table>\n</div>"
          },
          "metadata": {}
        }
      ],
      "execution_count": 8
    },
    {
      "cell_type": "code",
      "source": "df.head(10)",
      "metadata": {
        "trusted": true
      },
      "outputs": [
        {
          "execution_count": 9,
          "output_type": "execute_result",
          "data": {
            "text/plain": "  Manufacturer  Category     Screen  GPU  OS  CPU_core Screen_Size_inch  \\\n0         Dell         3    Full HD    1   1         3           39.624   \n1         Dell         3    Full HD    1   1         7           39.624   \n2         Dell         4  IPS Panel    2   1         5           33.782   \n3           HP         4    Full HD    2   1         7           39.624   \n4         Dell         3    Full HD    1   1         5           39.624   \n5           HP         3    Full HD    3   1         5           39.624   \n6         Acer         3  IPS Panel    2   1         5             38.1   \n7         Dell         3    Full HD    1   1         5           39.624   \n8         Acer         3  IPS Panel    3   1         7             38.1   \n9         Dell         3    Full HD    1   1         7           39.624   \n\n   CPU_frequency  RAM_GB  Storage_GB_SSD Weight_kg  Price  \n0            2.0       4             256       2.2    634  \n1            2.7       8             256       2.2    946  \n2            1.6       8             128      1.22   1244  \n3            1.8       8             256      1.91    837  \n4            1.6       8             256       2.2   1016  \n5            1.6       8             256       2.1   1117  \n6            1.6       4             256       2.2    866  \n7            2.5       4             256       2.3    812  \n8            1.8       8             256       2.2   1068  \n9            1.8       8             256      2.13    975  ",
            "text/html": "<div>\n<style scoped>\n    .dataframe tbody tr th:only-of-type {\n        vertical-align: middle;\n    }\n\n    .dataframe tbody tr th {\n        vertical-align: top;\n    }\n\n    .dataframe thead th {\n        text-align: right;\n    }\n</style>\n<table border=\"1\" class=\"dataframe\">\n  <thead>\n    <tr style=\"text-align: right;\">\n      <th></th>\n      <th>Manufacturer</th>\n      <th>Category</th>\n      <th>Screen</th>\n      <th>GPU</th>\n      <th>OS</th>\n      <th>CPU_core</th>\n      <th>Screen_Size_inch</th>\n      <th>CPU_frequency</th>\n      <th>RAM_GB</th>\n      <th>Storage_GB_SSD</th>\n      <th>Weight_kg</th>\n      <th>Price</th>\n    </tr>\n  </thead>\n  <tbody>\n    <tr>\n      <th>0</th>\n      <td>Dell</td>\n      <td>3</td>\n      <td>Full HD</td>\n      <td>1</td>\n      <td>1</td>\n      <td>3</td>\n      <td>39.624</td>\n      <td>2.0</td>\n      <td>4</td>\n      <td>256</td>\n      <td>2.2</td>\n      <td>634</td>\n    </tr>\n    <tr>\n      <th>1</th>\n      <td>Dell</td>\n      <td>3</td>\n      <td>Full HD</td>\n      <td>1</td>\n      <td>1</td>\n      <td>7</td>\n      <td>39.624</td>\n      <td>2.7</td>\n      <td>8</td>\n      <td>256</td>\n      <td>2.2</td>\n      <td>946</td>\n    </tr>\n    <tr>\n      <th>2</th>\n      <td>Dell</td>\n      <td>4</td>\n      <td>IPS Panel</td>\n      <td>2</td>\n      <td>1</td>\n      <td>5</td>\n      <td>33.782</td>\n      <td>1.6</td>\n      <td>8</td>\n      <td>128</td>\n      <td>1.22</td>\n      <td>1244</td>\n    </tr>\n    <tr>\n      <th>3</th>\n      <td>HP</td>\n      <td>4</td>\n      <td>Full HD</td>\n      <td>2</td>\n      <td>1</td>\n      <td>7</td>\n      <td>39.624</td>\n      <td>1.8</td>\n      <td>8</td>\n      <td>256</td>\n      <td>1.91</td>\n      <td>837</td>\n    </tr>\n    <tr>\n      <th>4</th>\n      <td>Dell</td>\n      <td>3</td>\n      <td>Full HD</td>\n      <td>1</td>\n      <td>1</td>\n      <td>5</td>\n      <td>39.624</td>\n      <td>1.6</td>\n      <td>8</td>\n      <td>256</td>\n      <td>2.2</td>\n      <td>1016</td>\n    </tr>\n    <tr>\n      <th>5</th>\n      <td>HP</td>\n      <td>3</td>\n      <td>Full HD</td>\n      <td>3</td>\n      <td>1</td>\n      <td>5</td>\n      <td>39.624</td>\n      <td>1.6</td>\n      <td>8</td>\n      <td>256</td>\n      <td>2.1</td>\n      <td>1117</td>\n    </tr>\n    <tr>\n      <th>6</th>\n      <td>Acer</td>\n      <td>3</td>\n      <td>IPS Panel</td>\n      <td>2</td>\n      <td>1</td>\n      <td>5</td>\n      <td>38.1</td>\n      <td>1.6</td>\n      <td>4</td>\n      <td>256</td>\n      <td>2.2</td>\n      <td>866</td>\n    </tr>\n    <tr>\n      <th>7</th>\n      <td>Dell</td>\n      <td>3</td>\n      <td>Full HD</td>\n      <td>1</td>\n      <td>1</td>\n      <td>5</td>\n      <td>39.624</td>\n      <td>2.5</td>\n      <td>4</td>\n      <td>256</td>\n      <td>2.3</td>\n      <td>812</td>\n    </tr>\n    <tr>\n      <th>8</th>\n      <td>Acer</td>\n      <td>3</td>\n      <td>IPS Panel</td>\n      <td>3</td>\n      <td>1</td>\n      <td>7</td>\n      <td>38.1</td>\n      <td>1.8</td>\n      <td>8</td>\n      <td>256</td>\n      <td>2.2</td>\n      <td>1068</td>\n    </tr>\n    <tr>\n      <th>9</th>\n      <td>Dell</td>\n      <td>3</td>\n      <td>Full HD</td>\n      <td>1</td>\n      <td>1</td>\n      <td>7</td>\n      <td>39.624</td>\n      <td>1.8</td>\n      <td>8</td>\n      <td>256</td>\n      <td>2.13</td>\n      <td>975</td>\n    </tr>\n  </tbody>\n</table>\n</div>"
          },
          "metadata": {}
        }
      ],
      "execution_count": 9
    },
    {
      "cell_type": "markdown",
      "source": "## Task 3\n#### Replacing '?' with 'NaN' (Not a Number) only applicable to object data type",
      "metadata": {}
    },
    {
      "cell_type": "code",
      "source": "df.replace(\"?\",np.nan, inplace= True)",
      "metadata": {
        "trusted": true
      },
      "outputs": [],
      "execution_count": 11
    },
    {
      "cell_type": "markdown",
      "source": "## Task 3\n#### Printing the data types of the dataframe",
      "metadata": {}
    },
    {
      "cell_type": "code",
      "source": "df.dtypes",
      "metadata": {
        "trusted": true
      },
      "outputs": [
        {
          "execution_count": 12,
          "output_type": "execute_result",
          "data": {
            "text/plain": "Manufacturer         object\nCategory              int64\nScreen               object\nGPU                   int64\nOS                    int64\nCPU_core              int64\nScreen_Size_inch     object\nCPU_frequency       float64\nRAM_GB                int64\nStorage_GB_SSD        int64\nWeight_kg            object\nPrice                 int64\ndtype: object"
          },
          "metadata": {}
        }
      ],
      "execution_count": 12
    },
    {
      "cell_type": "markdown",
      "source": "## Task 5\n#### Printing the statistical description of the dataset of only the data with int and float datatypes",
      "metadata": {}
    },
    {
      "cell_type": "code",
      "source": "df.describe()",
      "metadata": {
        "trusted": true
      },
      "outputs": [
        {
          "execution_count": 17,
          "output_type": "execute_result",
          "data": {
            "text/plain": "         Category         GPU          OS    CPU_core  CPU_frequency  \\\ncount  237.000000  237.000000  237.000000  237.000000     237.000000   \nmean     3.202532    2.151899    1.059072    5.632911       2.363291   \nstd      0.776450    0.639556    0.236258    1.243736       0.409271   \nmin      1.000000    1.000000    1.000000    3.000000       1.200000   \n25%      3.000000    2.000000    1.000000    5.000000       2.000000   \n50%      3.000000    2.000000    1.000000    5.000000       2.500000   \n75%      4.000000    3.000000    1.000000    7.000000       2.700000   \nmax      5.000000    3.000000    2.000000    7.000000       2.900000   \n\n           RAM_GB  Storage_GB_SSD        Price  \ncount  237.000000      237.000000   237.000000  \nmean     7.881857      245.738397  1464.388186  \nstd      2.487845       34.832516   574.956374  \nmin      4.000000      128.000000   527.000000  \n25%      8.000000      256.000000  1068.000000  \n50%      8.000000      256.000000  1333.000000  \n75%      8.000000      256.000000  1777.000000  \nmax     16.000000      256.000000  3810.000000  ",
            "text/html": "<div>\n<style scoped>\n    .dataframe tbody tr th:only-of-type {\n        vertical-align: middle;\n    }\n\n    .dataframe tbody tr th {\n        vertical-align: top;\n    }\n\n    .dataframe thead th {\n        text-align: right;\n    }\n</style>\n<table border=\"1\" class=\"dataframe\">\n  <thead>\n    <tr style=\"text-align: right;\">\n      <th></th>\n      <th>Category</th>\n      <th>GPU</th>\n      <th>OS</th>\n      <th>CPU_core</th>\n      <th>CPU_frequency</th>\n      <th>RAM_GB</th>\n      <th>Storage_GB_SSD</th>\n      <th>Price</th>\n    </tr>\n  </thead>\n  <tbody>\n    <tr>\n      <th>count</th>\n      <td>237.000000</td>\n      <td>237.000000</td>\n      <td>237.000000</td>\n      <td>237.000000</td>\n      <td>237.000000</td>\n      <td>237.000000</td>\n      <td>237.000000</td>\n      <td>237.000000</td>\n    </tr>\n    <tr>\n      <th>mean</th>\n      <td>3.202532</td>\n      <td>2.151899</td>\n      <td>1.059072</td>\n      <td>5.632911</td>\n      <td>2.363291</td>\n      <td>7.881857</td>\n      <td>245.738397</td>\n      <td>1464.388186</td>\n    </tr>\n    <tr>\n      <th>std</th>\n      <td>0.776450</td>\n      <td>0.639556</td>\n      <td>0.236258</td>\n      <td>1.243736</td>\n      <td>0.409271</td>\n      <td>2.487845</td>\n      <td>34.832516</td>\n      <td>574.956374</td>\n    </tr>\n    <tr>\n      <th>min</th>\n      <td>1.000000</td>\n      <td>1.000000</td>\n      <td>1.000000</td>\n      <td>3.000000</td>\n      <td>1.200000</td>\n      <td>4.000000</td>\n      <td>128.000000</td>\n      <td>527.000000</td>\n    </tr>\n    <tr>\n      <th>25%</th>\n      <td>3.000000</td>\n      <td>2.000000</td>\n      <td>1.000000</td>\n      <td>5.000000</td>\n      <td>2.000000</td>\n      <td>8.000000</td>\n      <td>256.000000</td>\n      <td>1068.000000</td>\n    </tr>\n    <tr>\n      <th>50%</th>\n      <td>3.000000</td>\n      <td>2.000000</td>\n      <td>1.000000</td>\n      <td>5.000000</td>\n      <td>2.500000</td>\n      <td>8.000000</td>\n      <td>256.000000</td>\n      <td>1333.000000</td>\n    </tr>\n    <tr>\n      <th>75%</th>\n      <td>4.000000</td>\n      <td>3.000000</td>\n      <td>1.000000</td>\n      <td>7.000000</td>\n      <td>2.700000</td>\n      <td>8.000000</td>\n      <td>256.000000</td>\n      <td>1777.000000</td>\n    </tr>\n    <tr>\n      <th>max</th>\n      <td>5.000000</td>\n      <td>3.000000</td>\n      <td>2.000000</td>\n      <td>7.000000</td>\n      <td>2.900000</td>\n      <td>16.000000</td>\n      <td>256.000000</td>\n      <td>3810.000000</td>\n    </tr>\n  </tbody>\n</table>\n</div>"
          },
          "metadata": {}
        }
      ],
      "execution_count": 17
    },
    {
      "cell_type": "markdown",
      "source": "## Task 6\n#### Printing the statistical description of the dataset including object datatypes",
      "metadata": {}
    },
    {
      "cell_type": "code",
      "source": "df.describe(include ='all')",
      "metadata": {
        "trusted": true
      },
      "outputs": [
        {
          "execution_count": 14,
          "output_type": "execute_result",
          "data": {
            "text/plain": "       Manufacturer    Category   Screen         GPU          OS    CPU_core  \\\ncount           237  237.000000      237  237.000000  237.000000  237.000000   \nunique           11         NaN        2         NaN         NaN         NaN   \ntop            Dell         NaN  Full HD         NaN         NaN         NaN   \nfreq             71         NaN      161         NaN         NaN         NaN   \nmean            NaN    3.202532      NaN    2.151899    1.059072    5.632911   \nstd             NaN    0.776450      NaN    0.639556    0.236258    1.243736   \nmin             NaN    1.000000      NaN    1.000000    1.000000    3.000000   \n25%             NaN    3.000000      NaN    2.000000    1.000000    5.000000   \n50%             NaN    3.000000      NaN    2.000000    1.000000    5.000000   \n75%             NaN    4.000000      NaN    3.000000    1.000000    7.000000   \nmax             NaN    5.000000      NaN    3.000000    2.000000    7.000000   \n\n       Screen_Size_inch  CPU_frequency      RAM_GB  Storage_GB_SSD Weight_kg  \\\ncount               233     237.000000  237.000000      237.000000       232   \nunique                9            NaN         NaN             NaN        77   \ntop              39.624            NaN         NaN             NaN       2.2   \nfreq                 89            NaN         NaN             NaN        21   \nmean                NaN       2.363291    7.881857      245.738397       NaN   \nstd                 NaN       0.409271    2.487845       34.832516       NaN   \nmin                 NaN       1.200000    4.000000      128.000000       NaN   \n25%                 NaN       2.000000    8.000000      256.000000       NaN   \n50%                 NaN       2.500000    8.000000      256.000000       NaN   \n75%                 NaN       2.700000    8.000000      256.000000       NaN   \nmax                 NaN       2.900000   16.000000      256.000000       NaN   \n\n              Price  \ncount    237.000000  \nunique          NaN  \ntop             NaN  \nfreq            NaN  \nmean    1464.388186  \nstd      574.956374  \nmin      527.000000  \n25%     1068.000000  \n50%     1333.000000  \n75%     1777.000000  \nmax     3810.000000  ",
            "text/html": "<div>\n<style scoped>\n    .dataframe tbody tr th:only-of-type {\n        vertical-align: middle;\n    }\n\n    .dataframe tbody tr th {\n        vertical-align: top;\n    }\n\n    .dataframe thead th {\n        text-align: right;\n    }\n</style>\n<table border=\"1\" class=\"dataframe\">\n  <thead>\n    <tr style=\"text-align: right;\">\n      <th></th>\n      <th>Manufacturer</th>\n      <th>Category</th>\n      <th>Screen</th>\n      <th>GPU</th>\n      <th>OS</th>\n      <th>CPU_core</th>\n      <th>Screen_Size_inch</th>\n      <th>CPU_frequency</th>\n      <th>RAM_GB</th>\n      <th>Storage_GB_SSD</th>\n      <th>Weight_kg</th>\n      <th>Price</th>\n    </tr>\n  </thead>\n  <tbody>\n    <tr>\n      <th>count</th>\n      <td>237</td>\n      <td>237.000000</td>\n      <td>237</td>\n      <td>237.000000</td>\n      <td>237.000000</td>\n      <td>237.000000</td>\n      <td>233</td>\n      <td>237.000000</td>\n      <td>237.000000</td>\n      <td>237.000000</td>\n      <td>232</td>\n      <td>237.000000</td>\n    </tr>\n    <tr>\n      <th>unique</th>\n      <td>11</td>\n      <td>NaN</td>\n      <td>2</td>\n      <td>NaN</td>\n      <td>NaN</td>\n      <td>NaN</td>\n      <td>9</td>\n      <td>NaN</td>\n      <td>NaN</td>\n      <td>NaN</td>\n      <td>77</td>\n      <td>NaN</td>\n    </tr>\n    <tr>\n      <th>top</th>\n      <td>Dell</td>\n      <td>NaN</td>\n      <td>Full HD</td>\n      <td>NaN</td>\n      <td>NaN</td>\n      <td>NaN</td>\n      <td>39.624</td>\n      <td>NaN</td>\n      <td>NaN</td>\n      <td>NaN</td>\n      <td>2.2</td>\n      <td>NaN</td>\n    </tr>\n    <tr>\n      <th>freq</th>\n      <td>71</td>\n      <td>NaN</td>\n      <td>161</td>\n      <td>NaN</td>\n      <td>NaN</td>\n      <td>NaN</td>\n      <td>89</td>\n      <td>NaN</td>\n      <td>NaN</td>\n      <td>NaN</td>\n      <td>21</td>\n      <td>NaN</td>\n    </tr>\n    <tr>\n      <th>mean</th>\n      <td>NaN</td>\n      <td>3.202532</td>\n      <td>NaN</td>\n      <td>2.151899</td>\n      <td>1.059072</td>\n      <td>5.632911</td>\n      <td>NaN</td>\n      <td>2.363291</td>\n      <td>7.881857</td>\n      <td>245.738397</td>\n      <td>NaN</td>\n      <td>1464.388186</td>\n    </tr>\n    <tr>\n      <th>std</th>\n      <td>NaN</td>\n      <td>0.776450</td>\n      <td>NaN</td>\n      <td>0.639556</td>\n      <td>0.236258</td>\n      <td>1.243736</td>\n      <td>NaN</td>\n      <td>0.409271</td>\n      <td>2.487845</td>\n      <td>34.832516</td>\n      <td>NaN</td>\n      <td>574.956374</td>\n    </tr>\n    <tr>\n      <th>min</th>\n      <td>NaN</td>\n      <td>1.000000</td>\n      <td>NaN</td>\n      <td>1.000000</td>\n      <td>1.000000</td>\n      <td>3.000000</td>\n      <td>NaN</td>\n      <td>1.200000</td>\n      <td>4.000000</td>\n      <td>128.000000</td>\n      <td>NaN</td>\n      <td>527.000000</td>\n    </tr>\n    <tr>\n      <th>25%</th>\n      <td>NaN</td>\n      <td>3.000000</td>\n      <td>NaN</td>\n      <td>2.000000</td>\n      <td>1.000000</td>\n      <td>5.000000</td>\n      <td>NaN</td>\n      <td>2.000000</td>\n      <td>8.000000</td>\n      <td>256.000000</td>\n      <td>NaN</td>\n      <td>1068.000000</td>\n    </tr>\n    <tr>\n      <th>50%</th>\n      <td>NaN</td>\n      <td>3.000000</td>\n      <td>NaN</td>\n      <td>2.000000</td>\n      <td>1.000000</td>\n      <td>5.000000</td>\n      <td>NaN</td>\n      <td>2.500000</td>\n      <td>8.000000</td>\n      <td>256.000000</td>\n      <td>NaN</td>\n      <td>1333.000000</td>\n    </tr>\n    <tr>\n      <th>75%</th>\n      <td>NaN</td>\n      <td>4.000000</td>\n      <td>NaN</td>\n      <td>3.000000</td>\n      <td>1.000000</td>\n      <td>7.000000</td>\n      <td>NaN</td>\n      <td>2.700000</td>\n      <td>8.000000</td>\n      <td>256.000000</td>\n      <td>NaN</td>\n      <td>1777.000000</td>\n    </tr>\n    <tr>\n      <th>max</th>\n      <td>NaN</td>\n      <td>5.000000</td>\n      <td>NaN</td>\n      <td>3.000000</td>\n      <td>2.000000</td>\n      <td>7.000000</td>\n      <td>NaN</td>\n      <td>2.900000</td>\n      <td>16.000000</td>\n      <td>256.000000</td>\n      <td>NaN</td>\n      <td>3810.000000</td>\n    </tr>\n  </tbody>\n</table>\n</div>"
          },
          "metadata": {}
        }
      ],
      "execution_count": 14
    },
    {
      "cell_type": "markdown",
      "source": "## Task 7\n#### Printing the summary information of the dataset",
      "metadata": {}
    },
    {
      "cell_type": "code",
      "source": "df.info()",
      "metadata": {
        "trusted": true
      },
      "outputs": [
        {
          "name": "stdout",
          "text": "<class 'pandas.core.frame.DataFrame'>\nRangeIndex: 237 entries, 0 to 236\nData columns (total 12 columns):\n #   Column            Non-Null Count  Dtype  \n---  ------            --------------  -----  \n 0   Manufacturer      237 non-null    object \n 1   Category          237 non-null    int64  \n 2   Screen            237 non-null    object \n 3   GPU               237 non-null    int64  \n 4   OS                237 non-null    int64  \n 5   CPU_core          237 non-null    int64  \n 6   Screen_Size_inch  233 non-null    object \n 7   CPU_frequency     237 non-null    float64\n 8   RAM_GB            237 non-null    int64  \n 9   Storage_GB_SSD    237 non-null    int64  \n 10  Weight_kg         232 non-null    object \n 11  Price             237 non-null    int64  \ndtypes: float64(1), int64(7), object(4)\nmemory usage: 18.6+ KB\n",
          "output_type": "stream"
        }
      ],
      "execution_count": 15
    },
    {
      "cell_type": "code",
      "source": "",
      "metadata": {
        "trusted": true
      },
      "outputs": [],
      "execution_count": null
    }
  ]
}